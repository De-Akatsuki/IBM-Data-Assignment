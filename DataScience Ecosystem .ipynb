{
 "cells": [
  {
   "cell_type": "markdown",
   "id": "3d3f79a6",
   "metadata": {},
   "source": [
    "# Data Science Tools and Ecosystem"
   ]
  },
  {
   "cell_type": "markdown",
   "id": "213da5ec",
   "metadata": {},
   "source": [
    "### In this Notebook, Data Science Tools and Ecosystem are summarized."
   ]
  },
  {
   "cell_type": "markdown",
   "id": "8adf2862",
   "metadata": {},
   "source": [
    "### OBJECTIVES:\n",
    "- Create a Jupyter Notebook with markdown and code cells\n",
    "- List examples of languages, libraries and tools used in Data Science\n",
    "- Share your Jupyter Notebook publicly on GitHub\n",
    "- Evaluate notebooks submitted by your peers using the provided rubric\n",
    "- Demonstrate proficiency in Data Science toolkit knowledge"
   ]
  },
  {
   "cell_type": "markdown",
   "id": "6f645085",
   "metadata": {},
   "source": [
    "#### Some of the popular languages that DataScientists use are:\n",
    "\n",
    "1. Python\n",
    "2. Java Script\n",
    "3. R"
   ]
  },
  {
   "cell_type": "markdown",
   "id": "5752fbe4",
   "metadata": {},
   "source": [
    "#### Some of the commonly used libraries used by Data Scientists include:\n",
    "\n",
    "1. Pandas\n",
    "2. Numpy\n",
    "3. Matplotlib\n",
    "4. Scikitlearn"
   ]
  },
  {
   "cell_type": "markdown",
   "id": "ec1662c4",
   "metadata": {},
   "source": [
    "|Data Science Tools|\n",
    "|:-: |\n",
    "|Google Co-Lab|\n",
    "|Jupyter Notebook|\n",
    "|IBM Watson|\n"
   ]
  },
  {
   "cell_type": "markdown",
   "id": "5aebe971",
   "metadata": {},
   "source": [
    "### Below are a few examples of evaluating arithmetic expressions in Python."
   ]
  },
  {
   "cell_type": "code",
   "execution_count": 4,
   "id": "232db161",
   "metadata": {},
   "outputs": [
    {
     "data": {
      "text/plain": [
       "17"
      ]
     },
     "execution_count": 4,
     "metadata": {},
     "output_type": "execute_result"
    }
   ],
   "source": [
    "## This is a simple arithemitic expression to multiply then add integers.\n",
    "\n",
    "(3*4)+5"
   ]
  },
  {
   "cell_type": "code",
   "execution_count": 10,
   "id": "0fb96ff8",
   "metadata": {},
   "outputs": [
    {
     "name": "stdout",
     "output_type": "stream",
     "text": [
      "200 minutes is equal to 3.3333333333333335 hours.\n"
     ]
    }
   ],
   "source": [
    "## This will convert 200 minutes to hours by diving by 60.\n",
    "\n",
    "def minutes_to_hours(minutes):\n",
    "    \n",
    "    hours = minutes / 60\n",
    "    return hours\n",
    "\n",
    "# Convert 200 minutes to hours\n",
    "minutes = 200\n",
    "hours = minutes_to_hours(minutes)\n",
    "print(f\"{minutes} minutes is equal to {hours} hours.\")\n",
    "\n",
    "\n"
   ]
  },
  {
   "cell_type": "markdown",
   "id": "9b58ccc3",
   "metadata": {},
   "source": [
    "## Author\n",
    "Corchil Kelly Kwame"
   ]
  }
 ],
 "metadata": {
  "kernelspec": {
   "display_name": "Python 3 (ipykernel)",
   "language": "python",
   "name": "python3"
  },
  "language_info": {
   "codemirror_mode": {
    "name": "ipython",
    "version": 3
   },
   "file_extension": ".py",
   "mimetype": "text/x-python",
   "name": "python",
   "nbconvert_exporter": "python",
   "pygments_lexer": "ipython3",
   "version": "3.10.9"
  }
 },
 "nbformat": 4,
 "nbformat_minor": 5
}
